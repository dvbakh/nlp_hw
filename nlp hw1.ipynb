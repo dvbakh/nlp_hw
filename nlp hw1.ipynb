{
 "cells": [
  {
   "cell_type": "code",
   "execution_count": 15,
   "id": "7cde1b85",
   "metadata": {},
   "outputs": [
    {
     "name": "stdout",
     "output_type": "stream",
     "text": [
      "^C\n"
     ]
    }
   ],
   "source": [
    "!pip install fake-useragent"
   ]
  },
  {
   "cell_type": "code",
   "execution_count": 45,
   "id": "2b2fdc1b",
   "metadata": {
    "scrolled": true
   },
   "outputs": [
    {
     "data": {
      "text/plain": [
       "10"
      ]
     },
     "execution_count": 45,
     "metadata": {},
     "output_type": "execute_result"
    }
   ],
   "source": [
    "#кравлинг\n",
    "from fake_useragent import UserAgent\n",
    "ua = UserAgent()\n",
    "import sqlite3\n",
    "from bs4 import BeautifulSoup\n",
    "import re\n",
    "import requests\n",
    "\n",
    "session = requests.session()\n",
    "page_number = 1\n",
    "url = f'https://www.kinopoisk.ru/film/262970/reviews/ord/date/status/all/perpage/10/page{page_number}/'\n",
    "req = session.get(url, headers={'User-Agent': ua.random})\n",
    "page = req.text\n",
    "soup = BeautifulSoup(page, 'html.parser')\n",
    "reviews = soup.find_all('div', {'class': 'reviewItem userReview'})\n",
    "len(reviews)"
   ]
  },
  {
   "cell_type": "code",
   "execution_count": 46,
   "id": "41894e38",
   "metadata": {},
   "outputs": [],
   "source": [
    "import unicodedata\n",
    "\n",
    "def parse_reviews_block(one_block):\n",
    "    block = {}\n",
    "    block['author'] = one_block.find('p', {'class':\"profile_name\"}).text.strip()\n",
    "    \n",
    "    if one_block.find('div', {'class':\"response good\"}) in one_block:\n",
    "        block['sentiment'] = 'good'\n",
    "    elif one_block.find('div', {'class':\"response bad\"}) in one_block:\n",
    "        block['sentiment'] = 'bad'\n",
    "    else:\n",
    "        block['sentiment'] = 'neutral'\n",
    "        \n",
    "    block['pub_date'] = one_block.find('span', {'class':\"date\"}).text.strip()\n",
    "    block['full_text'] = unicodedata.normalize(\"NFKD\", one_block.find('table').text.strip())\n",
    "    \n",
    "    return block"
   ]
  },
  {
   "cell_type": "code",
   "execution_count": 48,
   "id": "8985a311",
   "metadata": {},
   "outputs": [],
   "source": [
    "def get_nth_page(page_number):\n",
    "    \n",
    "    session = requests.session()\n",
    "    url = f'https://www.kinopoisk.ru/film/262970/reviews/ord/date/status/all/perpage/10/page/{page_number}/'\n",
    "    req = session.get(url, headers={'User-Agent': ua.random})\n",
    "    page = req.text\n",
    "    soup = BeautifulSoup(page, 'html.parser')\n",
    "    reviews = soup.find_all('div', {'class': 'reviewItem userReview'})\n",
    "    \n",
    "    result = []\n",
    "    for n in reviews:\n",
    "        try:\n",
    "            result.append(parse_reviews_block(n))\n",
    "        except Exception as e:\n",
    "            print(e)\n",
    "    return result"
   ]
  },
  {
   "cell_type": "code",
   "execution_count": 57,
   "id": "9c678940",
   "metadata": {},
   "outputs": [],
   "source": [
    "from tqdm.auto import tqdm\n",
    "import csv\n",
    "\n",
    "def run_all(n_pages):\n",
    "    with open('reviews.csv', 'a', newline='', encoding=\"utf-8\") as csvfile:\n",
    "        writer = csv.DictWriter(csvfile, fieldnames=['author', 'sentiment', 'pub_date', 'full_text'])\n",
    "        for i in tqdm(range(n_pages)):\n",
    "            blocks = get_nth_page(i+1)\n",
    "            writer.writeheader()\n",
    "            writer.writerows(blocks)\n",
    "            "
   ]
  },
  {
   "cell_type": "code",
   "execution_count": 154,
   "id": "2445b51e",
   "metadata": {},
   "outputs": [
    {
     "data": {
      "application/vnd.jupyter.widget-view+json": {
       "model_id": "ba4a7b4c503c4fbeb916404d1b4c74cd",
       "version_major": 2,
       "version_minor": 0
      },
      "text/plain": [
       "  0%|          | 0/20 [00:00<?, ?it/s]"
      ]
     },
     "metadata": {},
     "output_type": "display_data"
    }
   ],
   "source": [
    "run_all(20)"
   ]
  },
  {
   "cell_type": "code",
   "execution_count": 156,
   "id": "275c7a97",
   "metadata": {},
   "outputs": [
    {
     "data": {
      "text/html": [
       "<div>\n",
       "<style scoped>\n",
       "    .dataframe tbody tr th:only-of-type {\n",
       "        vertical-align: middle;\n",
       "    }\n",
       "\n",
       "    .dataframe tbody tr th {\n",
       "        vertical-align: top;\n",
       "    }\n",
       "\n",
       "    .dataframe thead th {\n",
       "        text-align: right;\n",
       "    }\n",
       "</style>\n",
       "<table border=\"1\" class=\"dataframe\">\n",
       "  <thead>\n",
       "    <tr style=\"text-align: right;\">\n",
       "      <th></th>\n",
       "      <th>author</th>\n",
       "      <th>sentiment</th>\n",
       "      <th>pub_date</th>\n",
       "      <th>full_text</th>\n",
       "    </tr>\n",
       "  </thead>\n",
       "  <tbody>\n",
       "    <tr>\n",
       "      <th>60</th>\n",
       "      <td>KRIpTOS</td>\n",
       "      <td>bad</td>\n",
       "      <td>27 марта 2009 | 15:18</td>\n",
       "      <td>Лично я не видел ничего чудовищнее! Этот сериа...</td>\n",
       "    </tr>\n",
       "    <tr>\n",
       "      <th>61</th>\n",
       "      <td>_MaLiNa_</td>\n",
       "      <td>good</td>\n",
       "      <td>19 февраля 2009 | 14:16</td>\n",
       "      <td>Многие пишут, что этот сериал всего лишь тупая...</td>\n",
       "    </tr>\n",
       "    <tr>\n",
       "      <th>62</th>\n",
       "      <td>levsky</td>\n",
       "      <td>good</td>\n",
       "      <td>03 февраля 2009 | 20:50</td>\n",
       "      <td>Сразу скажу, что сериал 'Женаты и с детьми' я ...</td>\n",
       "    </tr>\n",
       "    <tr>\n",
       "      <th>63</th>\n",
       "      <td>Фениксита</td>\n",
       "      <td>neutral</td>\n",
       "      <td>25 января 2009 | 16:48</td>\n",
       "      <td>Я не собираюсь никого осуждать или спорить. И ...</td>\n",
       "    </tr>\n",
       "    <tr>\n",
       "      <th>64</th>\n",
       "      <td>Ser_BarBoss</td>\n",
       "      <td>bad</td>\n",
       "      <td>09 января 2009 | 01:13</td>\n",
       "      <td>Первая серия. Первый сезон. Впервые мы знаком...</td>\n",
       "    </tr>\n",
       "  </tbody>\n",
       "</table>\n",
       "</div>"
      ],
      "text/plain": [
       "         author sentiment                 pub_date  \\\n",
       "60      KRIpTOS       bad    27 марта 2009 | 15:18   \n",
       "61     _MaLiNa_      good  19 февраля 2009 | 14:16   \n",
       "62       levsky      good  03 февраля 2009 | 20:50   \n",
       "63    Фениксита   neutral   25 января 2009 | 16:48   \n",
       "64  Ser_BarBoss       bad   09 января 2009 | 01:13   \n",
       "\n",
       "                                            full_text  \n",
       "60  Лично я не видел ничего чудовищнее! Этот сериа...  \n",
       "61  Многие пишут, что этот сериал всего лишь тупая...  \n",
       "62  Сразу скажу, что сериал 'Женаты и с детьми' я ...  \n",
       "63  Я не собираюсь никого осуждать или спорить. И ...  \n",
       "64  Первая серия. Первый сезон. Впервые мы знаком...  "
      ]
     },
     "execution_count": 156,
     "metadata": {},
     "output_type": "execute_result"
    }
   ],
   "source": [
    "#работа с файлом, подготовка текстов\n",
    "import pandas as pd\n",
    "corpus = pd.read_csv('reviews.csv')\n",
    "df=pd.DataFrame(corpus)\n",
    "df.tail()"
   ]
  },
  {
   "cell_type": "code",
   "execution_count": 157,
   "id": "31669e96",
   "metadata": {},
   "outputs": [],
   "source": [
    "from pymystem3 import Mystem\n",
    "f_bad=df['full_text'].loc[df['sentiment'] == 'bad'].values\n",
    "with open(\"lemmas_reviews_bad.txt\", 'w', encoding=\"utf-8\") as file1:\n",
    "    mystem = Mystem()\n",
    "    for i in f_bad:\n",
    "        lemmas = mystem.lemmatize(i)\n",
    "        file1.write(''.join(lemmas))\n",
    "\n",
    "f_good=df['full_text'].loc[df['sentiment'] == 'good'].values\n",
    "with open(\"lemmas_reviews_good.txt\", 'w', encoding=\"utf-8\") as file2:\n",
    "    mystem = Mystem()\n",
    "    for i in f_good:\n",
    "        lemmas = mystem.lemmatize(i)\n",
    "        file2.write(''.join(lemmas))\n",
    "        \n"
   ]
  },
  {
   "cell_type": "code",
   "execution_count": 158,
   "id": "33904f61",
   "metadata": {},
   "outputs": [],
   "source": [
    "import nltk\n",
    "from nltk.tokenize import word_tokenize\n",
    "import string\n",
    "\n",
    "tokens_bad=[]\n",
    "with open(\"lemmas_reviews_bad.txt\", 'r', encoding=\"utf-8\") as file1:\n",
    "    for line in file1:\n",
    "        tokens=word_tokenize(line.rstrip())\n",
    "        for tok in tokens:\n",
    "            if tok not in string.punctuation:\n",
    "                tokens_bad.append(tok)\n",
    "        \n",
    "tokens_good=[]\n",
    "with open(\"lemmas_reviews_good.txt\", 'r', encoding=\"utf-8\") as file2:\n",
    "    for line in file2:\n",
    "        tokens=word_tokenize(line.rstrip())\n",
    "        for tok in tokens:\n",
    "            if tok not in string.punctuation:\n",
    "                tokens_good.append(tok)"
   ]
  },
  {
   "cell_type": "code",
   "execution_count": 207,
   "id": "f25187fb",
   "metadata": {},
   "outputs": [
    {
     "name": "stderr",
     "output_type": "stream",
     "text": [
      "[nltk_data] Downloading package stopwords to\n",
      "[nltk_data]     C:\\Users\\dimba\\AppData\\Roaming\\nltk_data...\n",
      "[nltk_data]   Package stopwords is already up-to-date!\n"
     ]
    }
   ],
   "source": [
    "from nltk.corpus import stopwords \n",
    "nltk.download('stopwords')\n",
    "stops = set(stopwords.words('russian'))\n",
    "\n",
    "final_tb = {}\n",
    "final_tg = {}\n",
    "\n",
    "for el in tokens_bad:\n",
    "    if el not in tokens_good and el not in stops:\n",
    "        if el not in final_tb:\n",
    "            final_tb[el]=1\n",
    "        else:\n",
    "            final_tb[el]+=1\n",
    "            \n",
    "very_final_tb=[]\n",
    "for keys in final_tb:\n",
    "    if final_tb[keys]>2:\n",
    "        very_final_tb.append(keys)\n",
    "        \n",
    "for el in tokens_good:\n",
    "    if el not in tokens_bad and el not in stops:\n",
    "        if el not in final_tg:\n",
    "            final_tg[el]=1\n",
    "        else:\n",
    "            final_tg[el]+=1\n",
    "            \n",
    "very_final_tg=[]\n",
    "for keys in final_tg:\n",
    "    if final_tg[keys]>=2:\n",
    "        very_final_tg.append(keys)"
   ]
  },
  {
   "cell_type": "code",
   "execution_count": 208,
   "id": "997f87c6",
   "metadata": {},
   "outputs": [],
   "source": [
    "di={}\n",
    "\n",
    "for i in very_final_tg:\n",
    "    di[i]='good'\n",
    "for i in very_final_tb:\n",
    "    di[i]='bad'"
   ]
  },
  {
   "cell_type": "code",
   "execution_count": 209,
   "id": "8cba558c",
   "metadata": {},
   "outputs": [
    {
     "data": {
      "text/plain": [
       "(236, 232)"
      ]
     },
     "execution_count": 209,
     "metadata": {},
     "output_type": "execute_result"
    }
   ],
   "source": [
    "from sklearn.feature_extraction.text import CountVectorizer\n",
    "\n",
    "count_vect = CountVectorizer()\n",
    "X = count_vect.fit_transform(list(di.keys()))\n",
    "X.shape"
   ]
  },
  {
   "cell_type": "code",
   "execution_count": 210,
   "id": "3fd69224",
   "metadata": {},
   "outputs": [
    {
     "data": {
      "text/plain": [
       "<1x232 sparse matrix of type '<class 'numpy.int64'>'\n",
       "\twith 1 stored elements in Compressed Sparse Row format>"
      ]
     },
     "execution_count": 210,
     "metadata": {},
     "output_type": "execute_result"
    }
   ],
   "source": [
    "X[0]"
   ]
  },
  {
   "cell_type": "code",
   "execution_count": 211,
   "id": "7c7a4c48",
   "metadata": {},
   "outputs": [],
   "source": [
    "from sklearn.naive_bayes import MultinomialNB"
   ]
  },
  {
   "cell_type": "code",
   "execution_count": 212,
   "id": "605aaae3",
   "metadata": {},
   "outputs": [
    {
     "data": {
      "text/plain": [
       "array([[0, 0, 0, 0, 0, 0, 0, 0, 0, 0, 0, 0, 0, 0, 0, 0, 0, 0, 0, 0, 0, 0,\n",
       "        0, 0, 0, 0, 0, 0, 0, 0, 0, 0, 0, 0, 0, 0, 0, 0, 0, 0, 0, 0, 0, 0,\n",
       "        0, 0, 0, 0, 0, 0, 0, 0, 0, 0, 0, 0, 0, 0, 0, 0, 0, 0, 0, 0, 0, 0,\n",
       "        0, 0, 0, 0, 0, 0, 0, 0, 0, 0, 0, 0, 0, 0, 0, 0, 0, 0, 0, 0, 0, 0,\n",
       "        0, 0, 0, 0, 0, 0, 0, 0, 0, 0, 0, 0, 0, 0, 0, 0, 0, 0, 0, 0, 0, 0,\n",
       "        0, 0, 0, 0, 0, 0, 0, 0, 0, 0, 0, 0, 0, 0, 0, 0, 0, 0, 0, 0, 0, 0,\n",
       "        0, 0, 0, 0, 0, 0, 0, 0, 0, 0, 0, 0, 0, 0, 0, 0, 0, 0, 0, 0, 0, 0,\n",
       "        0, 0, 0, 0, 0, 0, 0, 0, 0, 0, 0, 0, 0, 0, 0, 0, 0, 0, 0, 0, 1, 0,\n",
       "        0, 0, 0, 0, 0, 0, 0, 0, 0, 0, 0, 0, 0, 0, 0, 0, 0, 0, 0, 0, 0, 0,\n",
       "        0, 0, 0, 0, 0, 0, 0, 0, 0, 0, 0, 0, 0, 0, 0, 0, 0, 0, 0, 0, 0, 0,\n",
       "        0, 0, 0, 0, 0, 0, 0, 0, 0, 0, 0, 0]], dtype=int64)"
      ]
     },
     "execution_count": 212,
     "metadata": {},
     "output_type": "execute_result"
    }
   ],
   "source": [
    "X[0].toarray()"
   ]
  },
  {
   "cell_type": "code",
   "execution_count": 213,
   "id": "97e23cf3",
   "metadata": {},
   "outputs": [
    {
     "data": {
      "text/html": [
       "<style>#sk-container-id-6 {color: black;background-color: white;}#sk-container-id-6 pre{padding: 0;}#sk-container-id-6 div.sk-toggleable {background-color: white;}#sk-container-id-6 label.sk-toggleable__label {cursor: pointer;display: block;width: 100%;margin-bottom: 0;padding: 0.3em;box-sizing: border-box;text-align: center;}#sk-container-id-6 label.sk-toggleable__label-arrow:before {content: \"▸\";float: left;margin-right: 0.25em;color: #696969;}#sk-container-id-6 label.sk-toggleable__label-arrow:hover:before {color: black;}#sk-container-id-6 div.sk-estimator:hover label.sk-toggleable__label-arrow:before {color: black;}#sk-container-id-6 div.sk-toggleable__content {max-height: 0;max-width: 0;overflow: hidden;text-align: left;background-color: #f0f8ff;}#sk-container-id-6 div.sk-toggleable__content pre {margin: 0.2em;color: black;border-radius: 0.25em;background-color: #f0f8ff;}#sk-container-id-6 input.sk-toggleable__control:checked~div.sk-toggleable__content {max-height: 200px;max-width: 100%;overflow: auto;}#sk-container-id-6 input.sk-toggleable__control:checked~label.sk-toggleable__label-arrow:before {content: \"▾\";}#sk-container-id-6 div.sk-estimator input.sk-toggleable__control:checked~label.sk-toggleable__label {background-color: #d4ebff;}#sk-container-id-6 div.sk-label input.sk-toggleable__control:checked~label.sk-toggleable__label {background-color: #d4ebff;}#sk-container-id-6 input.sk-hidden--visually {border: 0;clip: rect(1px 1px 1px 1px);clip: rect(1px, 1px, 1px, 1px);height: 1px;margin: -1px;overflow: hidden;padding: 0;position: absolute;width: 1px;}#sk-container-id-6 div.sk-estimator {font-family: monospace;background-color: #f0f8ff;border: 1px dotted black;border-radius: 0.25em;box-sizing: border-box;margin-bottom: 0.5em;}#sk-container-id-6 div.sk-estimator:hover {background-color: #d4ebff;}#sk-container-id-6 div.sk-parallel-item::after {content: \"\";width: 100%;border-bottom: 1px solid gray;flex-grow: 1;}#sk-container-id-6 div.sk-label:hover label.sk-toggleable__label {background-color: #d4ebff;}#sk-container-id-6 div.sk-serial::before {content: \"\";position: absolute;border-left: 1px solid gray;box-sizing: border-box;top: 0;bottom: 0;left: 50%;z-index: 0;}#sk-container-id-6 div.sk-serial {display: flex;flex-direction: column;align-items: center;background-color: white;padding-right: 0.2em;padding-left: 0.2em;position: relative;}#sk-container-id-6 div.sk-item {position: relative;z-index: 1;}#sk-container-id-6 div.sk-parallel {display: flex;align-items: stretch;justify-content: center;background-color: white;position: relative;}#sk-container-id-6 div.sk-item::before, #sk-container-id-6 div.sk-parallel-item::before {content: \"\";position: absolute;border-left: 1px solid gray;box-sizing: border-box;top: 0;bottom: 0;left: 50%;z-index: -1;}#sk-container-id-6 div.sk-parallel-item {display: flex;flex-direction: column;z-index: 1;position: relative;background-color: white;}#sk-container-id-6 div.sk-parallel-item:first-child::after {align-self: flex-end;width: 50%;}#sk-container-id-6 div.sk-parallel-item:last-child::after {align-self: flex-start;width: 50%;}#sk-container-id-6 div.sk-parallel-item:only-child::after {width: 0;}#sk-container-id-6 div.sk-dashed-wrapped {border: 1px dashed gray;margin: 0 0.4em 0.5em 0.4em;box-sizing: border-box;padding-bottom: 0.4em;background-color: white;}#sk-container-id-6 div.sk-label label {font-family: monospace;font-weight: bold;display: inline-block;line-height: 1.2em;}#sk-container-id-6 div.sk-label-container {text-align: center;}#sk-container-id-6 div.sk-container {/* jupyter's `normalize.less` sets `[hidden] { display: none; }` but bootstrap.min.css set `[hidden] { display: none !important; }` so we also need the `!important` here to be able to override the default hidden behavior on the sphinx rendered scikit-learn.org. See: https://github.com/scikit-learn/scikit-learn/issues/21755 */display: inline-block !important;position: relative;}#sk-container-id-6 div.sk-text-repr-fallback {display: none;}</style><div id=\"sk-container-id-6\" class=\"sk-top-container\"><div class=\"sk-text-repr-fallback\"><pre>MultinomialNB()</pre><b>In a Jupyter environment, please rerun this cell to show the HTML representation or trust the notebook. <br />On GitHub, the HTML representation is unable to render, please try loading this page with nbviewer.org.</b></div><div class=\"sk-container\" hidden><div class=\"sk-item\"><div class=\"sk-estimator sk-toggleable\"><input class=\"sk-toggleable__control sk-hidden--visually\" id=\"sk-estimator-id-6\" type=\"checkbox\" checked><label for=\"sk-estimator-id-6\" class=\"sk-toggleable__label sk-toggleable__label-arrow\">MultinomialNB</label><div class=\"sk-toggleable__content\"><pre>MultinomialNB()</pre></div></div></div></div></div>"
      ],
      "text/plain": [
       "MultinomialNB()"
      ]
     },
     "execution_count": 213,
     "metadata": {},
     "output_type": "execute_result"
    }
   ],
   "source": [
    "clf = MultinomialNB()\n",
    "y = list(di.values())\n",
    "clf.fit(X, y) "
   ]
  },
  {
   "cell_type": "code",
   "execution_count": 214,
   "id": "1f404767",
   "metadata": {
    "scrolled": true
   },
   "outputs": [
    {
     "data": {
      "text/plain": [
       "array([[-5.29330482, -5.29330482, -5.29330482, -5.29330482, -5.29330482,\n",
       "        -5.98645201, -5.29330482, -5.29330482, -5.98645201, -5.29330482,\n",
       "        -5.29330482, -5.29330482, -5.29330482, -5.29330482, -5.29330482,\n",
       "        -5.29330482, -5.98645201, -5.29330482, -5.98645201, -5.29330482,\n",
       "        -5.98645201, -5.29330482, -5.29330482, -5.29330482, -5.98645201,\n",
       "        -5.29330482, -5.98645201, -5.98645201, -5.98645201, -5.98645201,\n",
       "        -5.98645201, -5.29330482, -5.98645201, -5.98645201, -5.29330482,\n",
       "        -5.29330482, -5.29330482, -5.29330482, -5.29330482, -5.29330482,\n",
       "        -5.29330482, -5.29330482, -5.29330482, -5.29330482, -5.29330482,\n",
       "        -5.29330482, -5.29330482, -5.98645201, -5.29330482, -5.29330482,\n",
       "        -5.29330482, -5.29330482, -5.29330482, -5.98645201, -5.98645201,\n",
       "        -5.98645201, -5.29330482, -5.29330482, -5.98645201, -5.98645201,\n",
       "        -5.29330482, -5.29330482, -5.29330482, -5.29330482, -5.98645201,\n",
       "        -5.29330482, -5.29330482, -5.29330482, -5.29330482, -5.98645201,\n",
       "        -5.98645201, -5.29330482, -5.29330482, -5.98645201, -5.29330482,\n",
       "        -5.98645201, -5.98645201, -5.29330482, -5.29330482, -5.98645201,\n",
       "        -5.29330482, -5.29330482, -5.98645201, -5.29330482, -5.29330482,\n",
       "        -5.29330482, -5.98645201, -5.29330482, -5.29330482, -5.29330482,\n",
       "        -5.29330482, -5.29330482, -5.98645201, -5.98645201, -5.98645201,\n",
       "        -5.98645201, -5.98645201, -5.29330482, -5.29330482, -5.29330482,\n",
       "        -5.29330482, -5.29330482, -5.29330482, -5.29330482, -5.29330482,\n",
       "        -5.98645201, -5.29330482, -5.29330482, -5.29330482, -5.29330482,\n",
       "        -5.29330482, -5.98645201, -5.98645201, -5.29330482, -5.29330482,\n",
       "        -5.29330482, -5.29330482, -5.29330482, -5.29330482, -5.98645201,\n",
       "        -5.98645201, -5.29330482, -5.98645201, -5.29330482, -5.29330482,\n",
       "        -5.29330482, -5.29330482, -5.29330482, -5.98645201, -5.29330482,\n",
       "        -5.29330482, -5.29330482, -5.98645201, -5.29330482, -5.98645201,\n",
       "        -5.29330482, -5.98645201, -5.29330482, -5.29330482, -5.98645201,\n",
       "        -5.29330482, -5.29330482, -5.29330482, -5.29330482, -5.98645201,\n",
       "        -5.98645201, -5.98645201, -5.29330482, -5.29330482, -5.98645201,\n",
       "        -5.29330482, -5.29330482, -5.29330482, -5.29330482, -5.29330482,\n",
       "        -5.29330482, -5.29330482, -5.29330482, -5.29330482, -5.29330482,\n",
       "        -5.29330482, -5.98645201, -5.29330482, -5.29330482, -5.29330482,\n",
       "        -5.29330482, -5.29330482, -5.98645201, -5.29330482, -5.98645201,\n",
       "        -5.29330482, -5.29330482, -5.98645201, -5.29330482, -5.98645201,\n",
       "        -5.98645201, -5.29330482, -5.29330482, -5.29330482, -5.98645201,\n",
       "        -5.98645201, -5.29330482, -5.29330482, -5.29330482, -5.98645201,\n",
       "        -5.29330482, -5.98645201, -5.29330482, -5.29330482, -5.29330482,\n",
       "        -5.29330482, -5.98645201, -5.29330482, -5.29330482, -5.98645201,\n",
       "        -5.29330482, -5.29330482, -5.29330482, -5.29330482, -5.98645201,\n",
       "        -5.29330482, -5.29330482, -5.98645201, -5.98645201, -5.29330482,\n",
       "        -5.29330482, -5.29330482, -5.29330482, -5.29330482, -5.29330482,\n",
       "        -5.29330482, -5.29330482, -5.29330482, -5.29330482, -5.29330482,\n",
       "        -5.98645201, -5.29330482, -5.29330482, -5.98645201, -5.29330482,\n",
       "        -5.29330482, -5.29330482, -5.98645201, -5.29330482, -5.29330482,\n",
       "        -5.29330482, -5.29330482, -5.29330482, -5.29330482, -5.29330482,\n",
       "        -5.29330482, -5.29330482],\n",
       "       [-5.69709349, -5.69709349, -5.69709349, -5.69709349, -5.69709349,\n",
       "        -5.00394631, -5.69709349, -5.69709349, -5.00394631, -5.69709349,\n",
       "        -5.69709349, -5.69709349, -5.69709349, -5.69709349, -5.69709349,\n",
       "        -5.69709349, -5.00394631, -5.69709349, -5.00394631, -5.69709349,\n",
       "        -5.00394631, -5.69709349, -5.69709349, -5.69709349, -5.00394631,\n",
       "        -5.69709349, -5.00394631, -5.00394631, -5.00394631, -5.00394631,\n",
       "        -5.00394631, -5.69709349, -5.00394631, -5.00394631, -5.69709349,\n",
       "        -5.69709349, -5.69709349, -5.69709349, -5.69709349, -5.69709349,\n",
       "        -5.69709349, -5.69709349, -5.69709349, -5.69709349, -5.69709349,\n",
       "        -5.69709349, -5.69709349, -5.00394631, -5.69709349, -5.69709349,\n",
       "        -5.69709349, -5.69709349, -5.69709349, -5.00394631, -5.00394631,\n",
       "        -5.00394631, -5.69709349, -5.69709349, -5.00394631, -5.00394631,\n",
       "        -5.69709349, -5.69709349, -5.69709349, -5.69709349, -5.00394631,\n",
       "        -5.69709349, -5.69709349, -5.69709349, -5.69709349, -5.00394631,\n",
       "        -5.00394631, -5.69709349, -5.69709349, -5.00394631, -5.69709349,\n",
       "        -5.00394631, -5.00394631, -5.69709349, -5.69709349, -5.00394631,\n",
       "        -5.69709349, -5.69709349, -5.00394631, -5.69709349, -5.69709349,\n",
       "        -5.69709349, -5.00394631, -5.69709349, -5.69709349, -5.69709349,\n",
       "        -5.69709349, -5.69709349, -5.00394631, -5.00394631, -5.00394631,\n",
       "        -5.00394631, -5.00394631, -5.69709349, -5.69709349, -5.69709349,\n",
       "        -5.69709349, -5.69709349, -5.69709349, -5.69709349, -5.69709349,\n",
       "        -5.00394631, -5.69709349, -5.69709349, -5.69709349, -5.69709349,\n",
       "        -5.69709349, -5.00394631, -5.00394631, -5.69709349, -5.69709349,\n",
       "        -5.69709349, -5.69709349, -5.69709349, -5.69709349, -5.00394631,\n",
       "        -5.00394631, -5.69709349, -5.00394631, -5.69709349, -5.69709349,\n",
       "        -5.69709349, -5.69709349, -5.69709349, -5.00394631, -5.69709349,\n",
       "        -5.69709349, -5.69709349, -5.00394631, -5.69709349, -5.00394631,\n",
       "        -5.69709349, -5.00394631, -5.69709349, -5.69709349, -5.00394631,\n",
       "        -5.69709349, -5.69709349, -5.69709349, -5.69709349, -5.00394631,\n",
       "        -5.00394631, -5.00394631, -5.69709349, -5.69709349, -5.00394631,\n",
       "        -5.69709349, -5.69709349, -5.69709349, -5.69709349, -5.69709349,\n",
       "        -5.69709349, -5.69709349, -5.69709349, -5.69709349, -5.69709349,\n",
       "        -5.69709349, -5.00394631, -5.69709349, -5.69709349, -5.69709349,\n",
       "        -5.69709349, -5.69709349, -5.00394631, -5.69709349, -5.00394631,\n",
       "        -5.69709349, -5.69709349, -5.00394631, -5.69709349, -5.00394631,\n",
       "        -5.00394631, -5.69709349, -5.69709349, -5.69709349, -5.00394631,\n",
       "        -5.00394631, -5.69709349, -5.69709349, -5.69709349, -5.00394631,\n",
       "        -5.69709349, -5.00394631, -5.69709349, -5.69709349, -5.69709349,\n",
       "        -5.69709349, -5.00394631, -5.69709349, -5.69709349, -5.00394631,\n",
       "        -5.69709349, -5.69709349, -5.69709349, -5.69709349, -5.00394631,\n",
       "        -5.69709349, -5.69709349, -5.00394631, -5.00394631, -5.69709349,\n",
       "        -5.69709349, -5.69709349, -5.69709349, -5.69709349, -5.69709349,\n",
       "        -5.69709349, -5.69709349, -5.69709349, -5.69709349, -5.69709349,\n",
       "        -5.00394631, -5.69709349, -5.69709349, -5.00394631, -5.69709349,\n",
       "        -5.69709349, -5.69709349, -5.00394631, -5.69709349, -5.69709349,\n",
       "        -5.69709349, -5.69709349, -5.69709349, -5.69709349, -5.69709349,\n",
       "        -5.69709349, -5.69709349]])"
      ]
     },
     "execution_count": 214,
     "metadata": {},
     "output_type": "execute_result"
    }
   ],
   "source": [
    "clf.feature_log_prob_"
   ]
  },
  {
   "cell_type": "code",
   "execution_count": 215,
   "id": "1c95acfe",
   "metadata": {
    "scrolled": true
   },
   "outputs": [
    {
     "name": "stdout",
     "output_type": "stream",
     "text": [
      "Хорошо, что сняли что-то необычное. Смешное! С веселыми шутками и актерами.\n",
      "\n",
      "«Счастливы вместе» - комедия, наполненная красочными моментами и штуками, спецэффектами. Много напряженных моментов. Завораживает!\n",
      "\n",
      "Даша Букина это, наверное, самая смешная из всех в семейке Букиных. Даже, несмотря на то, что она не работает. Очень необычно!\n",
      "\n",
      "Светка Букина смешная девчонка с моральными принципами и образами. Очень интересный и красивый персонаж. Среди семьи. На нее интересно смотреть со стороны телевизора. Настоящая актриса!\n",
      "\n",
      "Гена Букин продавец обуви, можно еще сказать любимец футбола! Мне очень смешно то, что он ничего не делает. Кроме как смотрит телевизор. Поверьте действительно странно!\n",
      "\n",
      "И последний про кого хочется сказать Рома Букин настоящий парень с другими взглядами на мир и жизнь. Поклонник всех девочек! \n",
      "\n",
      "В целом  здесь все хорошо играют. Не могу сказать, что здесь есть что-то плохое. Одни шутки! Сказанные актерами! Комедия, в которой ничего нет грубого, плохого.\n",
      "\n",
      "Вообще мне кажется, хороший получился фильм, снятый в городе Екатеринбурге! \n",
      "\n",
      "Веселая комедия об обыкновенной семье! У которой много приключений и незаконченных действий. Даже не смотря на то, что в нем так мало актеров!\n",
      "\n",
      "10 из 10.\n"
     ]
    }
   ],
   "source": [
    "import random\n",
    "n = random.choice(range(64))\n",
    "print(df['full_text'][n])"
   ]
  },
  {
   "cell_type": "code",
   "execution_count": 216,
   "id": "c62a0013",
   "metadata": {},
   "outputs": [
    {
     "data": {
      "text/plain": [
       "array(['good'], dtype='<U4')"
      ]
     },
     "execution_count": 216,
     "metadata": {},
     "output_type": "execute_result"
    }
   ],
   "source": [
    "clf.predict(X[n])"
   ]
  },
  {
   "cell_type": "code",
   "execution_count": null,
   "id": "36104898",
   "metadata": {},
   "outputs": [],
   "source": [
    "Возможно, для улучшения алгоритма можно использовать синонимичные слова или близкие по смыслу к тем,\n",
    "которые мы обнаружили только в плохих или только в хороших отзывах. Например, при помощи Word2Vec и библиотеки Gensim"
   ]
  }
 ],
 "metadata": {
  "kernelspec": {
   "display_name": "Python 3 (ipykernel)",
   "language": "python",
   "name": "python3"
  },
  "language_info": {
   "codemirror_mode": {
    "name": "ipython",
    "version": 3
   },
   "file_extension": ".py",
   "mimetype": "text/x-python",
   "name": "python",
   "nbconvert_exporter": "python",
   "pygments_lexer": "ipython3",
   "version": "3.10.6"
  }
 },
 "nbformat": 4,
 "nbformat_minor": 5
}
